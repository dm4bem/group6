{
 "cells": [
  {
   "cell_type": "code",
   "execution_count": 1,
   "id": "0c28e74e-8698-45d5-8300-7e82fa1bcc24",
   "metadata": {
    "tags": []
   },
   "outputs": [
    {
     "name": "stdout",
     "output_type": "stream",
     "text": [
      "The temperature in the room 1 is : θ6 = 22.01 °C, and the temperature in the room 2 is :θ7 = 23.40 °C\n"
     ]
    },
    {
     "ename": "LinAlgError",
     "evalue": "Singular matrix",
     "output_type": "error",
     "traceback": [
      "\u001b[0;31m---------------------------------------------------------------------------\u001b[0m",
      "\u001b[0;31mLinAlgError\u001b[0m                               Traceback (most recent call last)",
      "File \u001b[0;32m~/steady_state.py:119\u001b[0m\n\u001b[1;32m    116\u001b[0m f_bis\u001b[38;5;241m=\u001b[39mP\u001b[38;5;129m@f\u001b[39m\n\u001b[1;32m    117\u001b[0m y_bis\u001b[38;5;241m=\u001b[39mP\u001b[38;5;129m@y\u001b[39m\n\u001b[0;32m--> 119\u001b[0m [As, Bs, Cs, Ds, us]\u001b[38;5;241m=\u001b[39m\u001b[43mdm4bem\u001b[49m\u001b[38;5;241;43m.\u001b[39;49m\u001b[43mtc2ss\u001b[49m\u001b[43m(\u001b[49m\u001b[43mA_bis\u001b[49m\u001b[43m,\u001b[49m\u001b[43mG\u001b[49m\u001b[43m,\u001b[49m\u001b[43mC_bis\u001b[49m\u001b[43m,\u001b[49m\u001b[43mb\u001b[49m\u001b[43m,\u001b[49m\u001b[43mf_bis\u001b[49m\u001b[43m,\u001b[49m\u001b[43my_bis\u001b[49m\u001b[43m)\u001b[49m  \u001b[38;5;66;03m#For a reason we ignore, there is an error during the call of this function\u001b[39;00m\n\u001b[1;32m    120\u001b[0m dt_max \u001b[38;5;241m=\u001b[39m \u001b[38;5;28mmin\u001b[39m(\u001b[38;5;241m-\u001b[39m\u001b[38;5;241m2.\u001b[39m\u001b[38;5;241m/\u001b[39meig(As))\n\u001b[1;32m    121\u001b[0m dt\u001b[38;5;241m=\u001b[39m\u001b[38;5;241m0.99\u001b[39m\u001b[38;5;241m*\u001b[39mdt_max\n",
      "File \u001b[0;32m~/dm4bem.py:206\u001b[0m, in \u001b[0;36mtc2ss\u001b[0;34m(A, G, C, b, f, y)\u001b[0m\n\u001b[1;32m    202\u001b[0m Kb2 \u001b[38;5;241m=\u001b[39m Kb[rC, :]\n\u001b[1;32m    204\u001b[0m \u001b[38;5;66;03m# State equation\u001b[39;00m\n\u001b[1;32m    205\u001b[0m As \u001b[38;5;241m=\u001b[39m np\u001b[38;5;241m.\u001b[39mlinalg\u001b[38;5;241m.\u001b[39minv(CC) \u001b[38;5;241m@\u001b[39m (\n\u001b[0;32m--> 206\u001b[0m     \u001b[38;5;241m-\u001b[39mK21 \u001b[38;5;241m@\u001b[39m \u001b[43mnp\u001b[49m\u001b[38;5;241;43m.\u001b[39;49m\u001b[43mlinalg\u001b[49m\u001b[38;5;241;43m.\u001b[39;49m\u001b[43minv\u001b[49m\u001b[43m(\u001b[49m\u001b[43mK11\u001b[49m\u001b[43m)\u001b[49m \u001b[38;5;241m@\u001b[39m K12 \u001b[38;5;241m+\u001b[39m K22)\n\u001b[1;32m    207\u001b[0m Bs \u001b[38;5;241m=\u001b[39m np\u001b[38;5;241m.\u001b[39mlinalg\u001b[38;5;241m.\u001b[39minv(CC) \u001b[38;5;241m@\u001b[39m np\u001b[38;5;241m.\u001b[39mhstack([\n\u001b[1;32m    208\u001b[0m     \u001b[38;5;241m-\u001b[39mK21 \u001b[38;5;241m@\u001b[39m np\u001b[38;5;241m.\u001b[39mlinalg\u001b[38;5;241m.\u001b[39minv(K11) \u001b[38;5;241m@\u001b[39m Kb1 \u001b[38;5;241m+\u001b[39m Kb2,\n\u001b[1;32m    209\u001b[0m     \u001b[38;5;241m-\u001b[39mK21 \u001b[38;5;241m@\u001b[39m np\u001b[38;5;241m.\u001b[39mlinalg\u001b[38;5;241m.\u001b[39minv(K11),\n\u001b[1;32m    210\u001b[0m     np\u001b[38;5;241m.\u001b[39meye(CC\u001b[38;5;241m.\u001b[39mshape[\u001b[38;5;241m0\u001b[39m])])\n\u001b[1;32m    211\u001b[0m \u001b[38;5;66;03m# re-arragne B s in order of f-sources\u001b[39;00m\n\u001b[1;32m    212\u001b[0m \u001b[38;5;66;03m# index B for sources [b f0 fC]\u001b[39;00m\n",
      "File \u001b[0;32m<__array_function__ internals>:5\u001b[0m, in \u001b[0;36minv\u001b[0;34m(*args, **kwargs)\u001b[0m\n",
      "File \u001b[0;32m/srv/conda/envs/notebook/lib/python3.8/site-packages/numpy/linalg/linalg.py:545\u001b[0m, in \u001b[0;36minv\u001b[0;34m(a)\u001b[0m\n\u001b[1;32m    543\u001b[0m signature \u001b[38;5;241m=\u001b[39m \u001b[38;5;124m'\u001b[39m\u001b[38;5;124mD->D\u001b[39m\u001b[38;5;124m'\u001b[39m \u001b[38;5;28;01mif\u001b[39;00m isComplexType(t) \u001b[38;5;28;01melse\u001b[39;00m \u001b[38;5;124m'\u001b[39m\u001b[38;5;124md->d\u001b[39m\u001b[38;5;124m'\u001b[39m\n\u001b[1;32m    544\u001b[0m extobj \u001b[38;5;241m=\u001b[39m get_linalg_error_extobj(_raise_linalgerror_singular)\n\u001b[0;32m--> 545\u001b[0m ainv \u001b[38;5;241m=\u001b[39m \u001b[43m_umath_linalg\u001b[49m\u001b[38;5;241;43m.\u001b[39;49m\u001b[43minv\u001b[49m\u001b[43m(\u001b[49m\u001b[43ma\u001b[49m\u001b[43m,\u001b[49m\u001b[43m \u001b[49m\u001b[43msignature\u001b[49m\u001b[38;5;241;43m=\u001b[39;49m\u001b[43msignature\u001b[49m\u001b[43m,\u001b[49m\u001b[43m \u001b[49m\u001b[43mextobj\u001b[49m\u001b[38;5;241;43m=\u001b[39;49m\u001b[43mextobj\u001b[49m\u001b[43m)\u001b[49m\n\u001b[1;32m    546\u001b[0m \u001b[38;5;28;01mreturn\u001b[39;00m wrap(ainv\u001b[38;5;241m.\u001b[39mastype(result_t, copy\u001b[38;5;241m=\u001b[39m\u001b[38;5;28;01mFalse\u001b[39;00m))\n",
      "File \u001b[0;32m/srv/conda/envs/notebook/lib/python3.8/site-packages/numpy/linalg/linalg.py:88\u001b[0m, in \u001b[0;36m_raise_linalgerror_singular\u001b[0;34m(err, flag)\u001b[0m\n\u001b[1;32m     87\u001b[0m \u001b[38;5;28;01mdef\u001b[39;00m \u001b[38;5;21m_raise_linalgerror_singular\u001b[39m(err, flag):\n\u001b[0;32m---> 88\u001b[0m     \u001b[38;5;28;01mraise\u001b[39;00m LinAlgError(\u001b[38;5;124m\"\u001b[39m\u001b[38;5;124mSingular matrix\u001b[39m\u001b[38;5;124m\"\u001b[39m)\n",
      "\u001b[0;31mLinAlgError\u001b[0m: Singular matrix"
     ]
    }
   ],
   "source": [
    "%run steady_state.py "
   ]
  },
  {
   "cell_type": "code",
   "execution_count": null,
   "id": "3b4718c7-30a8-4e0e-b2c9-11e230d1ce2c",
   "metadata": {},
   "outputs": [],
   "source": []
  }
 ],
 "metadata": {
  "kernelspec": {
   "display_name": "Python 3 (ipykernel)",
   "language": "python",
   "name": "python3"
  },
  "language_info": {
   "codemirror_mode": {
    "name": "ipython",
    "version": 3
   },
   "file_extension": ".py",
   "mimetype": "text/x-python",
   "name": "python",
   "nbconvert_exporter": "python",
   "pygments_lexer": "ipython3",
   "version": "3.8.8"
  }
 },
 "nbformat": 4,
 "nbformat_minor": 5
}
