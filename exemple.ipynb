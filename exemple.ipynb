# -*- coding: utf-8 -*-
"""
Created on Thu May 30 15:30:04 2024

@author: carriecl
"""

print('hello')