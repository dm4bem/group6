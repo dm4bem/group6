{
 "cells": [
  {
   "cell_type": "code",
   "execution_count": null,
   "id": "6fe75d2a-f1da-4026-bb19-40fcc8958689",
   "metadata": {},
   "outputs": [],
   "source": [
    "%run code.py"
   ]
  }
 ],
 "metadata": {
  "kernelspec": {
   "display_name": "Python 3 (ipykernel)",
   "language": "python",
   "name": "python3"
  },
  "language_info": {
   "codemirror_mode": {
    "name": "ipython",
    "version": 3
   },
   "file_extension": ".py",
   "mimetype": "text/x-python",
   "name": "python",
   "nbconvert_exporter": "python",
   "pygments_lexer": "ipython3",
   "version": "3.8.8"
  }
 },
 "nbformat": 4,
 "nbformat_minor": 5
}
